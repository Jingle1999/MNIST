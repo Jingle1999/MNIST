{
 "cells": [
  {
   "cell_type": "markdown",
   "metadata": {},
   "source": [
    "# Introduction\n",
    "\n",
    "In this project, you will build a neural network of your own design to evaluate the MNIST dataset.\n",
    "\n",
    "Some of the benchmark results on MNIST include can be found [on Yann LeCun's page](https://webcache.googleusercontent.com/search?q=cache:stAVPik6onEJ:yann.lecun.com/exdb/mnist) and include:\n",
    "\n",
    "88% [Lecun et al., 1998](https://hal.science/hal-03926082/document)\n",
    "\n",
    "95.3% [Lecun et al., 1998](https://hal.science/hal-03926082v1/document)\n",
    "\n",
    "99.65% [Ciresan et al., 2011](http://people.idsia.ch/~juergen/ijcai2011.pdf)\n",
    "\n",
    "\n",
    "MNIST is a great dataset for sanity checking your models, since the accuracy levels achieved by large convolutional neural networks and small linear models are both quite high. This makes it important to be familiar with the data.\n",
    "\n",
    "## Installation"
   ]
  },
  {
   "cell_type": "code",
   "execution_count": 2,
   "metadata": {},
   "outputs": [],
   "source": [
    "# Update the PATH to include the user installation directory. \n",
    "import os\n",
    "os.environ['PATH'] = f\"{os.environ['PATH']}:/root/.local/bin\"\n",
    "\n",
    "# Restart the Kernel before you move on to the next step."
   ]
  },
  {
   "cell_type": "markdown",
   "metadata": {},
   "source": [
    "#### Important: Restart the Kernel before you move on to the next step."
   ]
  },
  {
   "cell_type": "code",
   "execution_count": 3,
   "metadata": {},
   "outputs": [
    {
     "name": "stdout",
     "output_type": "stream",
     "text": [
      "Requirement already satisfied: opencv-python-headless==4.5.3.56 in c:\\users\\brauna\\appdata\\local\\programs\\python\\python36\\lib\\site-packages (from -r requirements.txt (line 1)) (4.5.3.56)\n",
      "Requirement already satisfied: matplotlib in c:\\users\\brauna\\appdata\\local\\programs\\python\\python36\\lib\\site-packages (from -r requirements.txt (line 2)) (3.3.4)\n",
      "Requirement already satisfied: numpy in c:\\users\\brauna\\appdata\\local\\programs\\python\\python36\\lib\\site-packages (from -r requirements.txt (line 3)) (1.19.5)\n",
      "Requirement already satisfied: pillow==7.0.0 in c:\\users\\brauna\\appdata\\local\\programs\\python\\python36\\lib\\site-packages (from -r requirements.txt (line 4)) (7.0.0)\n",
      "Requirement already satisfied: bokeh==2.1.1 in c:\\users\\brauna\\appdata\\local\\programs\\python\\python36\\lib\\site-packages (from -r requirements.txt (line 5)) (2.1.1)\n",
      "Requirement already satisfied: torch in c:\\users\\brauna\\appdata\\local\\programs\\python\\python36\\lib\\site-packages (from -r requirements.txt (line 6)) (1.9.0)\n",
      "Requirement already satisfied: torchvision in c:\\users\\brauna\\appdata\\local\\programs\\python\\python36\\lib\\site-packages (from -r requirements.txt (line 7)) (0.10.0)\n",
      "Requirement already satisfied: tqdm==4.63.0 in c:\\users\\brauna\\appdata\\local\\programs\\python\\python36\\lib\\site-packages (from -r requirements.txt (line 8)) (4.63.0)\n",
      "Requirement already satisfied: ipywidgets==7.7.0 in c:\\users\\brauna\\appdata\\local\\programs\\python\\python36\\lib\\site-packages (from -r requirements.txt (line 9)) (7.7.0)\n",
      "Requirement already satisfied: livelossplot==0.5.4 in c:\\users\\brauna\\appdata\\local\\programs\\python\\python36\\lib\\site-packages (from -r requirements.txt (line 10)) (0.5.4)\n",
      "Requirement already satisfied: pytest in c:\\users\\brauna\\appdata\\local\\programs\\python\\python36\\lib\\site-packages (from -r requirements.txt (line 11)) (7.0.1)\n",
      "Requirement already satisfied: pandas in c:\\users\\brauna\\appdata\\local\\programs\\python\\python36\\lib\\site-packages (from -r requirements.txt (line 12)) (1.1.5)\n",
      "Requirement already satisfied: seaborn==0.11.2 in c:\\users\\brauna\\appdata\\local\\programs\\python\\python36\\lib\\site-packages (from -r requirements.txt (line 13)) (0.11.2)\n",
      "Requirement already satisfied: jupyter==1.0.0 in c:\\users\\brauna\\appdata\\local\\programs\\python\\python36\\lib\\site-packages (from -r requirements.txt (line 14)) (1.0.0)\n",
      "Requirement already satisfied: ipykernel==4.10.0 in c:\\users\\brauna\\appdata\\local\\programs\\python\\python36\\lib\\site-packages (from -r requirements.txt (line 15)) (4.10.0)\n",
      "Requirement already satisfied: PyYAML>=3.10 in c:\\users\\brauna\\appdata\\local\\programs\\python\\python36\\lib\\site-packages (from bokeh==2.1.1->-r requirements.txt (line 5)) (6.0.1)\n",
      "Requirement already satisfied: packaging>=16.8 in c:\\users\\brauna\\appdata\\local\\programs\\python\\python36\\lib\\site-packages (from bokeh==2.1.1->-r requirements.txt (line 5)) (20.9)\n",
      "Requirement already satisfied: tornado>=5.1 in c:\\users\\brauna\\appdata\\local\\programs\\python\\python36\\lib\\site-packages (from bokeh==2.1.1->-r requirements.txt (line 5)) (6.1)\n",
      "Requirement already satisfied: python-dateutil>=2.1 in c:\\users\\brauna\\appdata\\local\\programs\\python\\python36\\lib\\site-packages (from bokeh==2.1.1->-r requirements.txt (line 5)) (2.8.1)\n",
      "Requirement already satisfied: Jinja2>=2.7 in c:\\users\\brauna\\appdata\\local\\programs\\python\\python36\\lib\\site-packages (from bokeh==2.1.1->-r requirements.txt (line 5)) (3.0.1)\n",
      "Requirement already satisfied: typing-extensions>=3.7.4 in c:\\users\\brauna\\appdata\\local\\programs\\python\\python36\\lib\\site-packages (from bokeh==2.1.1->-r requirements.txt (line 5)) (3.7.4.3)\n",
      "Requirement already satisfied: colorama in c:\\users\\brauna\\appdata\\local\\programs\\python\\python36\\lib\\site-packages (from tqdm==4.63.0->-r requirements.txt (line 8)) (0.4.4)\n",
      "Requirement already satisfied: importlib-resources in c:\\users\\brauna\\appdata\\roaming\\python\\python36\\site-packages (from tqdm==4.63.0->-r requirements.txt (line 8)) (5.1.4)\n",
      "Requirement already satisfied: traitlets>=4.3.1 in c:\\users\\brauna\\appdata\\local\\programs\\python\\python36\\lib\\site-packages (from ipywidgets==7.7.0->-r requirements.txt (line 9)) (4.3.3)\n",
      "Requirement already satisfied: nbformat>=4.2.0 in c:\\users\\brauna\\appdata\\local\\programs\\python\\python36\\lib\\site-packages (from ipywidgets==7.7.0->-r requirements.txt (line 9)) (5.1.3)\n",
      "Requirement already satisfied: ipython>=4.0.0 in c:\\users\\brauna\\appdata\\local\\programs\\python\\python36\\lib\\site-packages (from ipywidgets==7.7.0->-r requirements.txt (line 9)) (7.16.1)\n",
      "Requirement already satisfied: ipython-genutils~=0.2.0 in c:\\users\\brauna\\appdata\\local\\programs\\python\\python36\\lib\\site-packages (from ipywidgets==7.7.0->-r requirements.txt (line 9)) (0.2.0)\n",
      "Requirement already satisfied: jupyterlab-widgets>=1.0.0 in c:\\users\\brauna\\appdata\\local\\programs\\python\\python36\\lib\\site-packages (from ipywidgets==7.7.0->-r requirements.txt (line 9)) (1.0.0)\n",
      "Requirement already satisfied: widgetsnbextension~=3.6.0 in c:\\users\\brauna\\appdata\\local\\programs\\python\\python36\\lib\\site-packages (from ipywidgets==7.7.0->-r requirements.txt (line 9)) (3.6.6)\n",
      "Requirement already satisfied: scipy>=1.0 in c:\\users\\brauna\\appdata\\local\\programs\\python\\python36\\lib\\site-packages (from seaborn==0.11.2->-r requirements.txt (line 13)) (1.5.4)\n",
      "Requirement already satisfied: notebook in c:\\users\\brauna\\appdata\\local\\programs\\python\\python36\\lib\\site-packages (from jupyter==1.0.0->-r requirements.txt (line 14)) (6.4.0)\n",
      "Requirement already satisfied: nbconvert in c:\\users\\brauna\\appdata\\local\\programs\\python\\python36\\lib\\site-packages (from jupyter==1.0.0->-r requirements.txt (line 14)) (6.0.7)\n",
      "Requirement already satisfied: jupyter-console in c:\\users\\brauna\\appdata\\local\\programs\\python\\python36\\lib\\site-packages (from jupyter==1.0.0->-r requirements.txt (line 14)) (6.4.0)\n",
      "Requirement already satisfied: qtconsole in c:\\users\\brauna\\appdata\\local\\programs\\python\\python36\\lib\\site-packages (from jupyter==1.0.0->-r requirements.txt (line 14)) (5.1.0)\n",
      "Requirement already satisfied: jupyter-client in c:\\users\\brauna\\appdata\\local\\programs\\python\\python36\\lib\\site-packages (from ipykernel==4.10.0->-r requirements.txt (line 15)) (6.1.12)\n",
      "Requirement already satisfied: cycler>=0.10 in c:\\users\\brauna\\appdata\\local\\programs\\python\\python36\\lib\\site-packages (from matplotlib->-r requirements.txt (line 2)) (0.10.0)\n",
      "Requirement already satisfied: pyparsing!=2.0.4,!=2.1.2,!=2.1.6,>=2.0.3 in c:\\users\\brauna\\appdata\\local\\programs\\python\\python36\\lib\\site-packages (from matplotlib->-r requirements.txt (line 2)) (2.4.7)\n",
      "Requirement already satisfied: kiwisolver>=1.0.1 in c:\\users\\brauna\\appdata\\local\\programs\\python\\python36\\lib\\site-packages (from matplotlib->-r requirements.txt (line 2)) (1.3.1)\n",
      "Requirement already satisfied: dataclasses in c:\\users\\brauna\\appdata\\local\\programs\\python\\python36\\lib\\site-packages (from torch->-r requirements.txt (line 6)) (0.8)\n",
      "Requirement already satisfied: tomli>=1.0.0 in c:\\users\\brauna\\appdata\\local\\programs\\python\\python36\\lib\\site-packages (from pytest->-r requirements.txt (line 11)) (1.2.3)\n",
      "Requirement already satisfied: importlib-metadata>=0.12 in c:\\users\\brauna\\appdata\\roaming\\python\\python36\\site-packages (from pytest->-r requirements.txt (line 11)) (4.5.0)\n",
      "Requirement already satisfied: py>=1.8.2 in c:\\users\\brauna\\appdata\\local\\programs\\python\\python36\\lib\\site-packages (from pytest->-r requirements.txt (line 11)) (1.11.0)\n",
      "Requirement already satisfied: iniconfig in c:\\users\\brauna\\appdata\\local\\programs\\python\\python36\\lib\\site-packages (from pytest->-r requirements.txt (line 11)) (1.1.1)\n",
      "Requirement already satisfied: pluggy<2.0,>=0.12 in c:\\users\\brauna\\appdata\\local\\programs\\python\\python36\\lib\\site-packages (from pytest->-r requirements.txt (line 11)) (1.0.0)\n",
      "Requirement already satisfied: atomicwrites>=1.0 in c:\\users\\brauna\\appdata\\local\\programs\\python\\python36\\lib\\site-packages (from pytest->-r requirements.txt (line 11)) (1.4.1)\n",
      "Requirement already satisfied: attrs>=19.2.0 in c:\\users\\brauna\\appdata\\local\\programs\\python\\python36\\lib\\site-packages (from pytest->-r requirements.txt (line 11)) (21.2.0)\n",
      "Requirement already satisfied: pytz>=2017.2 in c:\\users\\brauna\\appdata\\local\\programs\\python\\python36\\lib\\site-packages (from pandas->-r requirements.txt (line 12)) (2021.1)\n",
      "Requirement already satisfied: six in c:\\users\\brauna\\appdata\\local\\programs\\python\\python36\\lib\\site-packages (from cycler>=0.10->matplotlib->-r requirements.txt (line 2)) (1.15.0)\n",
      "Requirement already satisfied: zipp>=0.5 in c:\\users\\brauna\\appdata\\roaming\\python\\python36\\site-packages (from importlib-metadata>=0.12->pytest->-r requirements.txt (line 11)) (3.4.1)\n",
      "Requirement already satisfied: pickleshare in c:\\users\\brauna\\appdata\\local\\programs\\python\\python36\\lib\\site-packages (from ipython>=4.0.0->ipywidgets==7.7.0->-r requirements.txt (line 9)) (0.7.5)\n",
      "Requirement already satisfied: decorator in c:\\users\\brauna\\appdata\\local\\programs\\python\\python36\\lib\\site-packages (from ipython>=4.0.0->ipywidgets==7.7.0->-r requirements.txt (line 9)) (4.4.2)\n",
      "Requirement already satisfied: setuptools>=18.5 in c:\\users\\brauna\\appdata\\local\\programs\\python\\python36\\lib\\site-packages (from ipython>=4.0.0->ipywidgets==7.7.0->-r requirements.txt (line 9)) (57.0.0)\n",
      "Requirement already satisfied: jedi>=0.10 in c:\\users\\brauna\\appdata\\local\\programs\\python\\python36\\lib\\site-packages (from ipython>=4.0.0->ipywidgets==7.7.0->-r requirements.txt (line 9)) (0.18.0)\n",
      "Requirement already satisfied: prompt-toolkit!=3.0.0,!=3.0.1,<3.1.0,>=2.0.0 in c:\\users\\brauna\\appdata\\local\\programs\\python\\python36\\lib\\site-packages (from ipython>=4.0.0->ipywidgets==7.7.0->-r requirements.txt (line 9)) (3.0.19)\n",
      "Requirement already satisfied: backcall in c:\\users\\brauna\\appdata\\local\\programs\\python\\python36\\lib\\site-packages (from ipython>=4.0.0->ipywidgets==7.7.0->-r requirements.txt (line 9)) (0.2.0)\n",
      "Requirement already satisfied: pygments in c:\\users\\brauna\\appdata\\local\\programs\\python\\python36\\lib\\site-packages (from ipython>=4.0.0->ipywidgets==7.7.0->-r requirements.txt (line 9)) (2.9.0)\n",
      "Requirement already satisfied: MarkupSafe>=2.0 in c:\\users\\brauna\\appdata\\local\\programs\\python\\python36\\lib\\site-packages (from Jinja2>=2.7->bokeh==2.1.1->-r requirements.txt (line 5)) (2.0.1)\n",
      "Requirement already satisfied: jupyter-core in c:\\users\\brauna\\appdata\\local\\programs\\python\\python36\\lib\\site-packages (from nbformat>=4.2.0->ipywidgets==7.7.0->-r requirements.txt (line 9)) (4.7.1)\n",
      "Requirement already satisfied: jsonschema!=2.5.0,>=2.4 in c:\\users\\brauna\\appdata\\local\\programs\\python\\python36\\lib\\site-packages (from nbformat>=4.2.0->ipywidgets==7.7.0->-r requirements.txt (line 9)) (3.2.0)\n",
      "Requirement already satisfied: prometheus-client in c:\\users\\brauna\\appdata\\local\\programs\\python\\python36\\lib\\site-packages (from notebook->jupyter==1.0.0->-r requirements.txt (line 14)) (0.11.0)\n",
      "Requirement already satisfied: pyzmq>=17 in c:\\users\\brauna\\appdata\\local\\programs\\python\\python36\\lib\\site-packages (from notebook->jupyter==1.0.0->-r requirements.txt (line 14)) (22.1.0)\n",
      "Requirement already satisfied: terminado>=0.8.3 in c:\\users\\brauna\\appdata\\local\\programs\\python\\python36\\lib\\site-packages (from notebook->jupyter==1.0.0->-r requirements.txt (line 14)) (0.10.1)\n",
      "Requirement already satisfied: Send2Trash>=1.5.0 in c:\\users\\brauna\\appdata\\local\\programs\\python\\python36\\lib\\site-packages (from notebook->jupyter==1.0.0->-r requirements.txt (line 14)) (1.7.1)\n",
      "Requirement already satisfied: argon2-cffi in c:\\users\\brauna\\appdata\\local\\programs\\python\\python36\\lib\\site-packages (from notebook->jupyter==1.0.0->-r requirements.txt (line 14)) (20.1.0)\n",
      "Requirement already satisfied: pandocfilters>=1.4.1 in c:\\users\\brauna\\appdata\\local\\programs\\python\\python36\\lib\\site-packages (from nbconvert->jupyter==1.0.0->-r requirements.txt (line 14)) (1.4.3)\n",
      "Requirement already satisfied: entrypoints>=0.2.2 in c:\\users\\brauna\\appdata\\local\\programs\\python\\python36\\lib\\site-packages (from nbconvert->jupyter==1.0.0->-r requirements.txt (line 14)) (0.3)\n",
      "Requirement already satisfied: defusedxml in c:\\users\\brauna\\appdata\\local\\programs\\python\\python36\\lib\\site-packages (from nbconvert->jupyter==1.0.0->-r requirements.txt (line 14)) (0.7.1)\n",
      "Requirement already satisfied: mistune<2,>=0.8.1 in c:\\users\\brauna\\appdata\\local\\programs\\python\\python36\\lib\\site-packages (from nbconvert->jupyter==1.0.0->-r requirements.txt (line 14)) (0.8.4)\n",
      "Requirement already satisfied: jupyterlab-pygments in c:\\users\\brauna\\appdata\\local\\programs\\python\\python36\\lib\\site-packages (from nbconvert->jupyter==1.0.0->-r requirements.txt (line 14)) (0.1.2)\n",
      "Requirement already satisfied: testpath in c:\\users\\brauna\\appdata\\local\\programs\\python\\python36\\lib\\site-packages (from nbconvert->jupyter==1.0.0->-r requirements.txt (line 14)) (0.5.0)\n",
      "Requirement already satisfied: nbclient<0.6.0,>=0.5.0 in c:\\users\\brauna\\appdata\\local\\programs\\python\\python36\\lib\\site-packages (from nbconvert->jupyter==1.0.0->-r requirements.txt (line 14)) (0.5.3)\n",
      "Requirement already satisfied: bleach in c:\\users\\brauna\\appdata\\local\\programs\\python\\python36\\lib\\site-packages (from nbconvert->jupyter==1.0.0->-r requirements.txt (line 14)) (3.3.0)\n",
      "Requirement already satisfied: qtpy in c:\\users\\brauna\\appdata\\local\\programs\\python\\python36\\lib\\site-packages (from qtconsole->jupyter==1.0.0->-r requirements.txt (line 14)) (1.9.0)\n",
      "Requirement already satisfied: parso<0.9.0,>=0.8.0 in c:\\users\\brauna\\appdata\\local\\programs\\python\\python36\\lib\\site-packages (from jedi>=0.10->ipython>=4.0.0->ipywidgets==7.7.0->-r requirements.txt (line 9)) (0.8.2)\n",
      "Requirement already satisfied: pyrsistent>=0.14.0 in c:\\users\\brauna\\appdata\\local\\programs\\python\\python36\\lib\\site-packages (from jsonschema!=2.5.0,>=2.4->nbformat>=4.2.0->ipywidgets==7.7.0->-r requirements.txt (line 9)) (0.17.3)\n",
      "Requirement already satisfied: pywin32>=1.0 in c:\\users\\brauna\\appdata\\local\\programs\\python\\python36\\lib\\site-packages (from jupyter-core->nbformat>=4.2.0->ipywidgets==7.7.0->-r requirements.txt (line 9)) (301)\n",
      "Requirement already satisfied: nest-asyncio in c:\\users\\brauna\\appdata\\local\\programs\\python\\python36\\lib\\site-packages (from nbclient<0.6.0,>=0.5.0->nbconvert->jupyter==1.0.0->-r requirements.txt (line 14)) (1.5.1)\n",
      "Requirement already satisfied: async-generator in c:\\users\\brauna\\appdata\\local\\programs\\python\\python36\\lib\\site-packages (from nbclient<0.6.0,>=0.5.0->nbconvert->jupyter==1.0.0->-r requirements.txt (line 14)) (1.10)\n",
      "Requirement already satisfied: wcwidth in c:\\users\\brauna\\appdata\\local\\programs\\python\\python36\\lib\\site-packages (from prompt-toolkit!=3.0.0,!=3.0.1,<3.1.0,>=2.0.0->ipython>=4.0.0->ipywidgets==7.7.0->-r requirements.txt (line 9)) (0.2.5)\n",
      "Requirement already satisfied: pywinpty>=1.1.0 in c:\\users\\brauna\\appdata\\local\\programs\\python\\python36\\lib\\site-packages (from terminado>=0.8.3->notebook->jupyter==1.0.0->-r requirements.txt (line 14)) (1.1.2)\n",
      "Requirement already satisfied: cffi>=1.0.0 in c:\\users\\brauna\\appdata\\local\\programs\\python\\python36\\lib\\site-packages (from argon2-cffi->notebook->jupyter==1.0.0->-r requirements.txt (line 14)) (1.14.5)\n",
      "Requirement already satisfied: webencodings in c:\\users\\brauna\\appdata\\local\\programs\\python\\python36\\lib\\site-packages (from bleach->nbconvert->jupyter==1.0.0->-r requirements.txt (line 14)) (0.5.1)\n",
      "Requirement already satisfied: pycparser in c:\\users\\brauna\\appdata\\local\\programs\\python\\python36\\lib\\site-packages (from cffi>=1.0.0->argon2-cffi->notebook->jupyter==1.0.0->-r requirements.txt (line 14)) (2.20)\n"
     ]
    },
    {
     "name": "stderr",
     "output_type": "stream",
     "text": [
      "WARNING: Ignoring invalid distribution -illow (c:\\users\\brauna\\appdata\\local\\programs\\python\\python36\\lib\\site-packages)\n",
      "WARNING: Ignoring invalid distribution -illow (c:\\users\\brauna\\appdata\\local\\programs\\python\\python36\\lib\\site-packages)\n",
      "WARNING: Ignoring invalid distribution -illow (c:\\users\\brauna\\appdata\\local\\programs\\python\\python36\\lib\\site-packages)\n",
      "WARNING: Ignoring invalid distribution -illow (c:\\users\\brauna\\appdata\\local\\programs\\python\\python36\\lib\\site-packages)\n",
      "WARNING: Ignoring invalid distribution -illow (c:\\users\\brauna\\appdata\\local\\programs\\python\\python36\\lib\\site-packages)\n"
     ]
    }
   ],
   "source": [
    "# Install requirements\n",
    "!python -m pip install -r requirements.txt"
   ]
  },
  {
   "cell_type": "markdown",
   "metadata": {},
   "source": [
    "## Imports"
   ]
  },
  {
   "cell_type": "code",
   "execution_count": 4,
   "metadata": {},
   "outputs": [],
   "source": [
    "## This cell contains the essential imports you will need – DO NOT CHANGE THE CONTENTS! ##\n",
    "import torch\n",
    "import torch.nn as nn\n",
    "import torch.nn.functional as F\n",
    "import torch.optim as optim\n",
    "import torchvision\n",
    "import torchvision.transforms as transforms\n",
    "import matplotlib.pyplot as plt\n",
    "import numpy as np\n",
    "from torch.utils.data import DataLoader"
   ]
  },
  {
   "cell_type": "markdown",
   "metadata": {},
   "source": [
    "## Load the Dataset\n",
    "\n",
    "Specify your transforms as a list if you intend to .\n",
    "The transforms module is already loaded as `transforms`.\n",
    "\n",
    "MNIST is fortunately included in the torchvision module.\n",
    "Then, you can create your dataset using the `MNIST` object from `torchvision.datasets` ([the documentation is available here](https://pytorch.org/vision/stable/datasets.html#mnist)).\n",
    "Make sure to specify `download=True`! \n",
    "\n",
    "Once your dataset is created, you'll also need to define a `DataLoader` from the `torch.utils.data` module for both the train and the test set."
   ]
  },
  {
   "cell_type": "code",
   "execution_count": 5,
   "metadata": {},
   "outputs": [
    {
     "name": "stderr",
     "output_type": "stream",
     "text": [
      "c:\\users\\brauna\\appdata\\local\\programs\\python\\python36\\lib\\site-packages\\torchvision\\datasets\\mnist.py:498: UserWarning: The given NumPy array is not writeable, and PyTorch does not support non-writeable tensors. This means you can write to the underlying (supposedly non-writeable) NumPy array using the tensor. You may want to copy the array to protect its data or make it writeable before converting it to a tensor. This type of warning will be suppressed for the rest of this program. (Triggered internally at  ..\\torch\\csrc\\utils\\tensor_numpy.cpp:180.)\n",
      "  return torch.from_numpy(parsed.astype(m[2], copy=False)).view(*s)\n"
     ]
    }
   ],
   "source": [
    "# Define transforms\n",
    "## YOUR CODE HERE ##\n",
    "transforms = transforms.ToTensor()\n",
    "\n",
    "# Create training set and define training dataloader\n",
    "## YOUR CODE HERE ##\n",
    "train_data = torchvision.datasets.MNIST(root=\"data\", train=True, download=True, transform=transforms)\n",
    "train_loader = DataLoader(train_data, batch_size=100, shuffle=True)\n",
    "\n",
    "# Create test set and define test dataloader\n",
    "## YOUR CODE HERE ##\n",
    "test_data = torchvision.datasets.MNIST(root=\"data\", train=False, download=True, transform=transforms)\n",
    "test_loader = DataLoader(test_data, batch_size=100)"
   ]
  },
  {
   "cell_type": "markdown",
   "metadata": {},
   "source": [
    "## Justify your preprocessing\n",
    "\n",
    "In your own words, why did you choose the transforms you chose? If you didn't use any preprocessing steps, why not?"
   ]
  },
  {
   "cell_type": "markdown",
   "metadata": {},
   "source": [
    "As discussed in the lesson, the first step to be done here is converting the image data into tensors and split the data into a train and a test set."
   ]
  },
  {
   "cell_type": "markdown",
   "metadata": {},
   "source": [
    "## Explore the Dataset\n",
    "Using matplotlib, numpy, and torch, explore the dimensions of your data.\n",
    "\n",
    "You can view images using the `show5` function defined below – it takes a data loader as an argument.\n",
    "Remember that normalized images will look really weird to you! You may want to try changing your transforms to view images.\n",
    "Typically using no transforms other than `toTensor()` works well for viewing – but not as well for training your network.\n",
    "If `show5` doesn't work, go back and check your code for creating your data loaders and your training/test sets."
   ]
  },
  {
   "cell_type": "code",
   "execution_count": 6,
   "metadata": {},
   "outputs": [],
   "source": [
    "## This cell contains a function for showing 5 images from a dataloader – DO NOT CHANGE THE CONTENTS! ##\n",
    "def show5(img_loader):\n",
    "    dataiter = iter(img_loader)\n",
    "    \n",
    "    batch = next(dataiter)\n",
    "    labels = batch[1][0:5]\n",
    "    images = batch[0][0:5]\n",
    "    for i in range(5):\n",
    "        print(int(labels[i].detach()))\n",
    "    \n",
    "        image = images[i].numpy()\n",
    "        plt.imshow(image.T.squeeze().T)\n",
    "        plt.show()"
   ]
  },
  {
   "cell_type": "code",
   "execution_count": 7,
   "metadata": {},
   "outputs": [
    {
     "name": "stdout",
     "output_type": "stream",
     "text": [
      "7\n"
     ]
    },
    {
     "data": {
      "image/png": "[encoded data removed]",
      "text/plain": [
       "<Figure size 432x288 with 1 Axes>"
      ]
     },
     "metadata": {
      "needs_background": "light"
     },
     "output_type": "display_data"
    },
    {
     "name": "stdout",
     "output_type": "stream",
     "text": [
      "9\n"
     ]
    },
    {
     "data": {
      "image/png": "[encoded data removed]",
      "text/plain": [
       "<Figure size 432x288 with 1 Axes>"
      ]
     },
     "metadata": {
      "needs_background": "light"
     },
     "output_type": "display_data"
    },
    {
     "name": "stdout",
     "output_type": "stream",
     "text": [
      "3\n"
     ]
    },
    {
     "data": {
      "image/png": "[encoded data removed]",
      "text/plain": [
       "<Figure size 432x288 with 1 Axes>"
      ]
     },
     "metadata": {
      "needs_background": "light"
     },
     "output_type": "display_data"
    },
    {
     "name": "stdout",
     "output_type": "stream",
     "text": [
      "2\n"
     ]
    },
    {
     "data": {
      "image/png": "[encoded data removed]",
      "text/plain": [
       "<Figure size 432x288 with 1 Axes>"
      ]
     },
     "metadata": {
      "needs_background": "light"
     },
     "output_type": "display_data"
    },
    {
     "name": "stdout",
     "output_type": "stream",
     "text": [
      "0\n"
     ]
    },
    {
     "data": {
      "image/png": "[encoded data removed]",
      "text/plain": [
       "<Figure size 432x288 with 1 Axes>"
      ]
     },
     "metadata": {
      "needs_background": "light"
     },
     "output_type": "display_data"
    }
   ],
   "source": [
    "# show the 5 images from the function above\n",
    "show5(train_loader)"
   ]
  },
  {
   "cell_type": "code",
   "execution_count": 8,
   "metadata": {},
   "outputs": [
    {
     "name": "stdout",
     "output_type": "stream",
     "text": [
      "number of images: torch.Size([100, 1, 28, 28])\n",
      "number of labels: torch.Size([100])\n"
     ]
    }
   ],
   "source": [
    "# Explore data\n",
    "## YOUR CODE HERE \n",
    "dataiter = iter(train_loader)\n",
    "images, labels = next(dataiter)\n",
    "\n",
    "print(\"number of images: {}\".format(images.shape))\n",
    "print(\"number of labels: {}\".format(labels.shape))"
   ]
  },
  {
   "cell_type": "code",
   "execution_count": 9,
   "metadata": {},
   "outputs": [
    {
     "name": "stdout",
     "output_type": "stream",
     "text": [
      "Number of MNIST train data examples: 60000\n",
      "Number of MNIST test data examples: 10000\n"
     ]
    }
   ],
   "source": [
    "# Explore data\n",
    "## YOUR CODE HERE ##\n",
    "print(\"Number of MNIST train data examples: {}\".format(len(train_data)))\n",
    "print(\"Number of MNIST test data examples: {}\".format(len(test_data)))"
   ]
  },
  {
   "cell_type": "markdown",
   "metadata": {},
   "source": [
    "## Build your Neural Network\n",
    "Using the layers in `torch.nn` (which has been imported as `nn`) and the `torch.nn.functional` module (imported as `F`), construct a neural network based on the parameters of the dataset.\n",
    "Use any architecture you like. \n",
    "\n",
    "*Note*: If you did not flatten your tensors in your transforms or as part of your preprocessing and you are using only `Linear` layers, make sure to use the `Flatten` layer in your network!"
   ]
  },
  {
   "cell_type": "code",
   "execution_count": 12,
   "metadata": {},
   "outputs": [],
   "source": [
    "## YOUR CODE HERE ##\n",
    "## Using f.relu as activation function\n",
    "class Model(nn.Module):\n",
    "    def __init__(self):\n",
    "        super(Model, self).__init__()\n",
    "        self.activation = F.relu\n",
    "        self.layer1 = nn.Linear(28 * 28, 128)\n",
    "        self.layer2 = nn.Linear(128, 64)\n",
    "        self.layer3 = nn.Linear(64, 10)\n",
    "        \n",
    "    def forward(self, x):\n",
    "        x = torch.flatten(x, 1)\n",
    "        x = self.activation(self.layer1(x))\n",
    "        x = self.activation(self.layer2(x))\n",
    "        x = self.layer3(x)\n",
    "        return x\n",
    "    \n",
    "net = Model()"
   ]
  },
  {
   "cell_type": "markdown",
   "metadata": {},
   "source": [
    "Specify a loss function and an optimizer, and instantiate the model.\n",
    "\n",
    "If you use a less common loss function, please note why you chose that loss function in a comment."
   ]
  },
  {
   "cell_type": "code",
   "execution_count": 13,
   "metadata": {},
   "outputs": [],
   "source": [
    "## YOUR CODE HERE ##\n",
    "# Choose an optimizer as discussed in the course, taking small steps\n",
    "optimizer = optim.Adam(net.parameters(), lr=0.0005)\n",
    "\n",
    "# Choose a loss function as discussed in the course\n",
    "criterion = nn.CrossEntropyLoss()"
   ]
  },
  {
   "cell_type": "markdown",
   "metadata": {},
   "source": [
    "## Running your Neural Network\n",
    "Use whatever method you like to train your neural network, and ensure you record the average loss at each epoch. \n",
    "Don't forget to use `torch.device()` and the `.to()` method for both your model and your data if you are using GPU!\n",
    "\n",
    "If you want to print your loss **during** each epoch, you can use the `enumerate` function and print the loss after a set number of batches. 250 batches works well for most people!"
   ]
  },
  {
   "cell_type": "code",
   "execution_count": 14,
   "metadata": {},
   "outputs": [
    {
     "name": "stdout",
     "output_type": "stream",
     "text": [
      "Epoch 1 training accuracy: 86.74% training loss: 0.51468\n",
      "Epoch 1 validation accuracy: 93.00% validation loss: 0.24600\n",
      "Epoch 2 training accuracy: 93.90% training loss: 0.21562\n",
      "Epoch 2 validation accuracy: 94.69% validation loss: 0.17862\n",
      "Epoch 3 training accuracy: 95.30% training loss: 0.16361\n",
      "Epoch 3 validation accuracy: 95.61% validation loss: 0.14469\n",
      "Epoch 4 training accuracy: 96.12% training loss: 0.13168\n",
      "Epoch 4 validation accuracy: 96.10% validation loss: 0.12409\n",
      "Epoch 5 training accuracy: 96.84% training loss: 0.10790\n",
      "Epoch 5 validation accuracy: 96.65% validation loss: 0.10865\n",
      "Epoch 6 training accuracy: 97.32% training loss: 0.09047\n",
      "Epoch 6 validation accuracy: 96.90% validation loss: 0.09585\n",
      "Epoch 7 training accuracy: 97.69% training loss: 0.07690\n",
      "Epoch 7 validation accuracy: 97.13% validation loss: 0.09147\n",
      "Epoch 8 training accuracy: 98.05% training loss: 0.06617\n",
      "Epoch 8 validation accuracy: 97.33% validation loss: 0.08582\n",
      "Epoch 9 training accuracy: 98.29% training loss: 0.05650\n",
      "Epoch 9 validation accuracy: 97.43% validation loss: 0.08307\n",
      "Epoch 10 training accuracy: 98.52% training loss: 0.04949\n",
      "Epoch 10 validation accuracy: 97.40% validation loss: 0.07944\n"
     ]
    }
   ],
   "source": [
    "## YOUR CODE HERE ##\n",
    "num_epochs = 10\n",
    "\n",
    "# Establish a list for our history\n",
    "train_loss_history = list()\n",
    "val_loss_history = list()\n",
    "\n",
    "for epoch in range(num_epochs):\n",
    "    net.train()\n",
    "    train_loss = 0.0\n",
    "    train_correct = 0\n",
    "    for i, data in enumerate(train_loader):\n",
    "        # data is a list of [inputs, labels]\n",
    "        inputs, labels = data\n",
    "\n",
    "        # Zero out the gradients of the optimizer\n",
    "        optimizer.zero_grad()\n",
    "\n",
    "        # Get the outputs of your model and compute your loss\n",
    "        outputs = net(inputs)\n",
    "        loss = criterion(outputs, labels)\n",
    "        \n",
    "        # Compute the loss gradient using the backward method and have the optimizer take a step\n",
    "        loss.backward()\n",
    "        optimizer.step()\n",
    "\n",
    "        # Compute the accuracy and print the accuracy and loss\n",
    "        _, preds = torch.max(outputs.data, 1)\n",
    "        train_correct += (preds == labels).sum().item()\n",
    "        train_loss += loss.item()\n",
    "    print(f'Epoch {epoch + 1} training accuracy: {train_correct/len(train_loader):.2f}% training loss: {train_loss/len(train_loader):.5f}')\n",
    "    train_loss_history.append(train_loss/len(train_loader))\n",
    "\n",
    "    # The validation step is done for you.\n",
    "    val_loss = 0.0\n",
    "    val_correct = 0\n",
    "    net.eval()\n",
    "    for inputs, labels in test_loader:\n",
    "\n",
    "        outputs = net(inputs)\n",
    "        loss = criterion(outputs, labels)\n",
    "\n",
    "        _, preds = torch.max(outputs.data, 1)\n",
    "        val_correct += (preds == labels).sum().item()\n",
    "        val_loss += loss.item()\n",
    "    print(f'Epoch {epoch + 1} validation accuracy: {val_correct/len(test_loader):.2f}% validation loss: {val_loss/len(test_loader):.5f}')\n",
    "    val_loss_history.append(val_loss/len(test_loader))\n",
    "\n"
   ]
  },
  {
   "cell_type": "code",
   "execution_count": 15,
   "metadata": {},
   "outputs": [
    {
     "data": {
      "image/png": "[encoded data removed]",
      "text/plain": [
       "<Figure size 432x288 with 1 Axes>"
      ]
     },
     "metadata": {
      "needs_background": "light"
     },
     "output_type": "display_data"
    }
   ],
   "source": [
    "## YOUR CODE HERE ##\n",
    "plt.plot(train_loss_history, label=\"Training Loss\")\n",
    "plt.plot(val_loss_history, label=\"Validation Loss\")\n",
    "plt.legend()\n",
    "plt.show()"
   ]
  },
  {
   "cell_type": "markdown",
   "metadata": {},
   "source": [
    "## Testing your model\n",
    "Using the previously created `DataLoader` for the test set, compute the percentage of correct predictions using the highest probability prediction. \n",
    "\n",
    "If your accuracy is over 90%, great work, but see if you can push a bit further! \n",
    "If your accuracy is under 90%, you'll need to make improvements.\n",
    "Go back and check your model architecture, loss function, and optimizer to make sure they're appropriate for an image classification task."
   ]
  },
  {
   "cell_type": "code",
   "execution_count": 16,
   "metadata": {},
   "outputs": [],
   "source": [
    "## YOUR CODE HERE ##\n",
    "\n",
    "\n",
    "def test():\n",
    "    net.eval()\n",
    "    test_loss = 0\n",
    "    test_correct = 0\n",
    "    for i, data in enumerate(test_loader):\n",
    "        inputs, labels  = data\n",
    "            \n",
    "        optimizer.zero_grad()\n",
    "        \n",
    "        outputs = net(inputs)\n",
    "        loss = criterion(outputs, labels)\n",
    "        \n",
    "        loss.backward()\n",
    "        optimizer.step()\n",
    "        \n",
    "        _, preds = torch.max(outputs.data, 1)\n",
    "        test_correct += (preds == labels).sum().item()\n",
    "        test_loss += loss.item()\n",
    "    print(f'Epoch {epoch + 1} test accuracy: {test_correct/len(test_loader):.2f}% test loss: {test_loss/len(test_loader):.5f}')\n",
    "\n"
   ]
  },
  {
   "cell_type": "code",
   "execution_count": 17,
   "metadata": {},
   "outputs": [
    {
     "name": "stdout",
     "output_type": "stream",
     "text": [
      "Epoch 1 test accuracy: 97.33% test loss: 0.08378\n",
      "Epoch 2 test accuracy: 98.21% test loss: 0.05698\n",
      "Epoch 3 test accuracy: 99.02% test loss: 0.03982\n",
      "Epoch 4 test accuracy: 99.39% test loss: 0.03048\n",
      "Epoch 5 test accuracy: 99.59% test loss: 0.02451\n",
      "Epoch 6 test accuracy: 99.69% test loss: 0.02029\n",
      "Epoch 7 test accuracy: 99.78% test loss: 0.01697\n",
      "Epoch 8 test accuracy: 99.82% test loss: 0.01444\n",
      "Epoch 9 test accuracy: 99.91% test loss: 0.01240\n",
      "Epoch 10 test accuracy: 99.93% test loss: 0.01071\n"
     ]
    }
   ],
   "source": [
    "for epoch in range(num_epochs):\n",
    "    test()"
   ]
  },
  {
   "cell_type": "markdown",
   "metadata": {},
   "source": [
    "## Improving your model\n",
    "\n",
    "Once your model is done training, try tweaking your hyperparameters and training again below to improve your accuracy on the test set!"
   ]
  },
  {
   "cell_type": "code",
   "execution_count": 19,
   "metadata": {},
   "outputs": [],
   "source": [
    "## YOUR CODE HERE ##\n",
    "# Add dropout = 0.1\n",
    "\n",
    "class Model2(nn.Module):\n",
    "    def __init__(self):\n",
    "        super(Model2, self).__init__()\n",
    "        self.activation = F.relu\n",
    "        self.layer1 = nn.Linear(28 * 28, 128)\n",
    "        self.layer2 = nn.Linear(128, 64)\n",
    "        self.layer3 = nn.Linear(64, 10)\n",
    "        \n",
    "        self.dropout=nn.Dropout(0.1)\n",
    "        \n",
    "    def forward(self, x):\n",
    "        x = torch.flatten(x, 1)\n",
    "        x = self.activation(self.layer1(x))\n",
    "        x = self.activation(self.layer2(x))\n",
    "        x = self.layer3(x)\n",
    "        return x\n",
    "    \n",
    "model2 = Model2()"
   ]
  },
  {
   "cell_type": "code",
   "execution_count": 20,
   "metadata": {},
   "outputs": [],
   "source": [
    "# Choose an optimizer\n",
    "optimizer = optim.Adam(model2.parameters(), lr=0.001)\n",
    "\n",
    "# Choose a loss function\n",
    "criterion = nn.CrossEntropyLoss()"
   ]
  },
  {
   "cell_type": "code",
   "execution_count": 25,
   "metadata": {},
   "outputs": [
    {
     "name": "stdout",
     "output_type": "stream",
     "text": [
      "Epoch 1 training accuracy: 95.17% training loss: 0.16351\n",
      "Epoch 1 validation accuracy: 95.88% validation loss: 0.13566\n",
      "Epoch 2 training accuracy: 96.56% training loss: 0.11452\n",
      "Epoch 2 validation accuracy: 96.81% validation loss: 0.10471\n",
      "Epoch 3 training accuracy: 97.36% training loss: 0.08673\n",
      "Epoch 3 validation accuracy: 97.19% validation loss: 0.09323\n",
      "Epoch 4 training accuracy: 97.85% training loss: 0.06917\n",
      "Epoch 4 validation accuracy: 97.59% validation loss: 0.08272\n",
      "Epoch 5 training accuracy: 98.30% training loss: 0.05552\n",
      "Epoch 5 validation accuracy: 97.27% validation loss: 0.09017\n",
      "Epoch 6 training accuracy: 98.53% training loss: 0.04579\n",
      "Epoch 6 validation accuracy: 97.55% validation loss: 0.08209\n",
      "Epoch 7 training accuracy: 98.87% training loss: 0.03733\n",
      "Epoch 7 validation accuracy: 97.43% validation loss: 0.08539\n",
      "Epoch 8 training accuracy: 99.03% training loss: 0.03118\n",
      "Epoch 8 validation accuracy: 97.73% validation loss: 0.08605\n",
      "Epoch 9 training accuracy: 99.13% training loss: 0.02738\n",
      "Epoch 9 validation accuracy: 97.44% validation loss: 0.08964\n",
      "Epoch 10 training accuracy: 99.33% training loss: 0.02180\n",
      "Epoch 10 validation accuracy: 97.62% validation loss: 0.08223\n"
     ]
    }
   ],
   "source": [
    "num_epochs = 10\n",
    "\n",
    "# Establish a list for our history\n",
    "train_loss_history = list()\n",
    "val_loss_history = list()\n",
    "\n",
    "for epoch in range(num_epochs):\n",
    "    model2.train()\n",
    "    train_loss = 0.0\n",
    "    train_correct = 0\n",
    "    for i, data in enumerate(train_loader):\n",
    "        # data is a list of [inputs, labels]\n",
    "        inputs, labels = data\n",
    "\n",
    "        # Zero out the gradients of the optimizer\n",
    "        optimizer.zero_grad()\n",
    "\n",
    "        # Get the outputs of your model and compute your loss\n",
    "        outputs = model2(inputs)\n",
    "        loss = criterion(outputs, labels)\n",
    "        \n",
    "        # Compute the loss gradient using the backward method and have the optimizer take a step\n",
    "        loss.backward()\n",
    "        optimizer.step()\n",
    "\n",
    "        # Compute the accuracy and print the accuracy and loss\n",
    "        _, preds = torch.max(outputs.data, 1)\n",
    "        train_correct += (preds == labels).sum().item()\n",
    "        train_loss += loss.item()\n",
    "    print(f'Epoch {epoch + 1} training accuracy: {train_correct/len(train_loader):.2f}% training loss: {train_loss/len(train_loader):.5f}')\n",
    "    train_loss_history.append(train_loss/len(train_loader))\n",
    "\n",
    "    # The validation step is done for you.\n",
    "    val_loss = 0.0\n",
    "    val_correct = 0\n",
    "    model2.eval()\n",
    "    for inputs, labels in test_loader:\n",
    "\n",
    "        outputs = model2(inputs)\n",
    "        loss = criterion(outputs, labels)\n",
    "\n",
    "        _, preds = torch.max(outputs.data, 1)\n",
    "        val_correct += (preds == labels).sum().item()\n",
    "        val_loss += loss.item()\n",
    "    print(f'Epoch {epoch + 1} validation accuracy: {val_correct/len(test_loader):.2f}% validation loss: {val_loss/len(test_loader):.5f}')\n",
    "    val_loss_history.append(val_loss/len(test_loader))"
   ]
  },
  {
   "cell_type": "markdown",
   "metadata": {},
   "source": [
    "## Saving your model\n",
    "Using `torch.save`, save your model for future loading."
   ]
  },
  {
   "cell_type": "code",
   "execution_count": 26,
   "metadata": {},
   "outputs": [],
   "source": [
    "## YOUR CODE HERE ##\n",
    "torch.save(Model, \"Model.pth\")\n",
    "torch.save(Model2, \"Model2.pth\")"
   ]
  },
  {
   "cell_type": "code",
   "execution_count": null,
   "metadata": {},
   "outputs": [],
   "source": []
  }
 ],
 "metadata": {
  "kernelspec": {
   "display_name": "Python 3",
   "language": "python",
   "name": "python3"
  },
  "language_info": {
   "codemirror_mode": {
    "name": "ipython",
    "version": 3
   },
   "file_extension": ".py",
   "mimetype": "text/x-python",
   "name": "python",
   "nbconvert_exporter": "python",
   "pygments_lexer": "ipython3",
   "version": "3.6.8"
  }
 },
 "nbformat": 4,
 "nbformat_minor": 4
}
